{
 "cells": [
  {
   "cell_type": "code",
   "execution_count": 1,
   "metadata": {},
   "outputs": [
    {
     "name": "stderr",
     "output_type": "stream",
     "text": [
      "/home/bill/anaconda3/lib/python3.7/site-packages/statsmodels/tools/_testing.py:19: FutureWarning: pandas.util.testing is deprecated. Use the functions in the public API at pandas.testing instead.\n",
      "  import pandas.util.testing as tm\n"
     ]
    }
   ],
   "source": [
    "from pmlb import fetch_data, nearest_datasets\n",
    "import seaborn as sns\n",
    "import matplotlib.pyplot as plt\n",
    "import numpy as np\n",
    "\n",
    "import pandas as pd\n",
    "%matplotlib inline"
   ]
  },
  {
   "cell_type": "code",
   "execution_count": 2,
   "metadata": {
    "scrolled": true
   },
   "outputs": [
    {
     "name": "stdout",
     "output_type": "stream",
     "text": [
      "potential dimensions: ['n_instances', 'n_features', 'n_binary_features', 'n_categorical_features', 'n_continuous_features', 'endpoint_type', 'n_classes', 'imbalance', 'task']\n"
     ]
    },
    {
     "data": {
      "text/html": [
       "<div>\n",
       "<style scoped>\n",
       "    .dataframe tbody tr th:only-of-type {\n",
       "        vertical-align: middle;\n",
       "    }\n",
       "\n",
       "    .dataframe tbody tr th {\n",
       "        vertical-align: top;\n",
       "    }\n",
       "\n",
       "    .dataframe thead th {\n",
       "        text-align: right;\n",
       "    }\n",
       "</style>\n",
       "<table border=\"1\" class=\"dataframe\">\n",
       "  <thead>\n",
       "    <tr style=\"text-align: right;\">\n",
       "      <th></th>\n",
       "      <th>n_instances</th>\n",
       "      <th>n_features</th>\n",
       "      <th>n_binary_features</th>\n",
       "      <th>n_categorical_features</th>\n",
       "      <th>n_continuous_features</th>\n",
       "      <th>n_classes</th>\n",
       "      <th>imbalance</th>\n",
       "    </tr>\n",
       "  </thead>\n",
       "  <tbody>\n",
       "    <tr>\n",
       "      <th>0</th>\n",
       "      <td>488</td>\n",
       "      <td>4</td>\n",
       "      <td>0</td>\n",
       "      <td>0</td>\n",
       "      <td>4</td>\n",
       "      <td>9.0</td>\n",
       "      <td>0.099363</td>\n",
       "    </tr>\n",
       "    <tr>\n",
       "      <th>1</th>\n",
       "      <td>1000</td>\n",
       "      <td>10</td>\n",
       "      <td>0</td>\n",
       "      <td>0</td>\n",
       "      <td>10</td>\n",
       "      <td>4.0</td>\n",
       "      <td>0.108291</td>\n",
       "    </tr>\n",
       "    <tr>\n",
       "      <th>2</th>\n",
       "      <td>1000</td>\n",
       "      <td>4</td>\n",
       "      <td>0</td>\n",
       "      <td>0</td>\n",
       "      <td>4</td>\n",
       "      <td>5.0</td>\n",
       "      <td>0.111245</td>\n",
       "    </tr>\n",
       "    <tr>\n",
       "      <th>3</th>\n",
       "      <td>1000</td>\n",
       "      <td>4</td>\n",
       "      <td>0</td>\n",
       "      <td>0</td>\n",
       "      <td>4</td>\n",
       "      <td>9.0</td>\n",
       "      <td>0.031251</td>\n",
       "    </tr>\n",
       "    <tr>\n",
       "      <th>4</th>\n",
       "      <td>47</td>\n",
       "      <td>13</td>\n",
       "      <td>0</td>\n",
       "      <td>0</td>\n",
       "      <td>13</td>\n",
       "      <td>42.0</td>\n",
       "      <td>0.002970</td>\n",
       "    </tr>\n",
       "    <tr>\n",
       "      <th>...</th>\n",
       "      <td>...</td>\n",
       "      <td>...</td>\n",
       "      <td>...</td>\n",
       "      <td>...</td>\n",
       "      <td>...</td>\n",
       "      <td>...</td>\n",
       "      <td>...</td>\n",
       "    </tr>\n",
       "    <tr>\n",
       "      <th>279</th>\n",
       "      <td>1599</td>\n",
       "      <td>11</td>\n",
       "      <td>0</td>\n",
       "      <td>0</td>\n",
       "      <td>11</td>\n",
       "      <td>6.0</td>\n",
       "      <td>0.228804</td>\n",
       "    </tr>\n",
       "    <tr>\n",
       "      <th>280</th>\n",
       "      <td>4898</td>\n",
       "      <td>11</td>\n",
       "      <td>0</td>\n",
       "      <td>0</td>\n",
       "      <td>11</td>\n",
       "      <td>7.0</td>\n",
       "      <td>0.211974</td>\n",
       "    </tr>\n",
       "    <tr>\n",
       "      <th>281</th>\n",
       "      <td>178</td>\n",
       "      <td>13</td>\n",
       "      <td>0</td>\n",
       "      <td>2</td>\n",
       "      <td>11</td>\n",
       "      <td>3.0</td>\n",
       "      <td>0.012530</td>\n",
       "    </tr>\n",
       "    <tr>\n",
       "      <th>282</th>\n",
       "      <td>973</td>\n",
       "      <td>9</td>\n",
       "      <td>9</td>\n",
       "      <td>0</td>\n",
       "      <td>0</td>\n",
       "      <td>2.0</td>\n",
       "      <td>0.114332</td>\n",
       "    </tr>\n",
       "    <tr>\n",
       "      <th>283</th>\n",
       "      <td>1479</td>\n",
       "      <td>8</td>\n",
       "      <td>0</td>\n",
       "      <td>0</td>\n",
       "      <td>8</td>\n",
       "      <td>9.0</td>\n",
       "      <td>0.127818</td>\n",
       "    </tr>\n",
       "  </tbody>\n",
       "</table>\n",
       "<p>284 rows × 7 columns</p>\n",
       "</div>"
      ],
      "text/plain": [
       "     n_instances  n_features  n_binary_features  n_categorical_features  \\\n",
       "0            488           4                  0                       0   \n",
       "1           1000          10                  0                       0   \n",
       "2           1000           4                  0                       0   \n",
       "3           1000           4                  0                       0   \n",
       "4             47          13                  0                       0   \n",
       "..           ...         ...                ...                     ...   \n",
       "279         1599          11                  0                       0   \n",
       "280         4898          11                  0                       0   \n",
       "281          178          13                  0                       2   \n",
       "282          973           9                  9                       0   \n",
       "283         1479           8                  0                       0   \n",
       "\n",
       "     n_continuous_features  n_classes  imbalance  \n",
       "0                        4        9.0   0.099363  \n",
       "1                       10        4.0   0.108291  \n",
       "2                        4        5.0   0.111245  \n",
       "3                        4        9.0   0.031251  \n",
       "4                       13       42.0   0.002970  \n",
       "..                     ...        ...        ...  \n",
       "279                     11        6.0   0.228804  \n",
       "280                     11        7.0   0.211974  \n",
       "281                     11        3.0   0.012530  \n",
       "282                      0        2.0   0.114332  \n",
       "283                      8        9.0   0.127818  \n",
       "\n",
       "[284 rows x 7 columns]"
      ]
     },
     "execution_count": 2,
     "metadata": {},
     "output_type": "execute_result"
    }
   ],
   "source": [
    "pmlb_stats= pd.read_csv('../pmlb/all_summary_stats.tsv', sep='\\t')\n",
    "print('potential dimensions:',[c for c in pmlb_stats.columns if c != 'dataset'])\n",
    "pmlb_stats = pmlb_stats.apply(lambda x: pd.to_numeric(x,errors='coerce')).dropna(axis=1,how='all')\n",
    "\n",
    "pmlb_stats"
   ]
  },
  {
   "cell_type": "code",
   "execution_count": 10,
   "metadata": {
    "scrolled": true
   },
   "outputs": [
    {
     "name": "stdout",
     "output_type": "stream",
     "text": [
      "generating summary stats for dataset\n",
      "closest names: ['appendicitis' 'cloud' 'prnn_crabs' 'cleveland_nominal' 'ecoli'\n",
      " 'penguins' 'analcatdata_creditscore' 'postoperative_patient_data' 'mux6'\n",
      " 'corral' 'analcatdata_bankruptcy' 'biomed' 'cars' 'monk3' 'monk1' 'monk2'\n",
      " 'pima' 'diabetes' 'yeast' 'tae']\n"
     ]
    }
   ],
   "source": [
    "dataset = 'appendicitis'\n",
    "dimensions = ['n_instances','n_features'] # these are the default dimensions\n",
    "df = fetch_data(dataset)\n",
    "closest_names = nearest_datasets(df, n = 20, dimensions=dimensions, task='classification')\n",
    "\n",
    "print('closest names:',closest_names)"
   ]
  },
  {
   "cell_type": "code",
   "execution_count": 11,
   "metadata": {},
   "outputs": [
    {
     "name": "stdout",
     "output_type": "stream",
     "text": [
      "106 8\n"
     ]
    },
    {
     "data": {
      "image/png": "[encoded data removed]",
      "text/plain": [
       "<Figure size 720x720 with 1 Axes>"
      ]
     },
     "metadata": {
      "needs_background": "light"
     },
     "output_type": "display_data"
    }
   ],
   "source": [
    "pmlb_stats= pd.read_csv('../pmlb/all_summary_stats.tsv',sep='\\t')\n",
    "pmlb_stats = pmlb_stats.loc[pmlb_stats.task == 'classification']\n",
    "pmlb_stats['neighbors'] = pmlb_stats['dataset'].isin(closest_names)\n",
    "plt.figure(figsize=(10,10))\n",
    "sns.scatterplot(data = pmlb_stats,\n",
    "               x = 'n_instances',\n",
    "               y = 'n_features',\n",
    "               style='neighbors',\n",
    "               hue='neighbors')\n",
    "x0 = df.shape[0]\n",
    "y0 = df.shape[1]\n",
    "print(x0,y0)\n",
    "x_offset=pmlb_stats['n_instances'].std()\n",
    "y_offset0=pmlb_stats['n_features'].std()\n",
    "plt.plot(x0,y0,'rs')\n",
    "# plt.text(x0,y0,dataset)\n",
    "plt.xlim(x0-x_offset,x0+x_offset)\n",
    "plt.ylim(y0-y_offset,y0+y_offset)\n",
    "# plt.xscale('log')\n",
    "# plt.yscale('log')\n",
    "plt.show()"
   ]
  }
 ],
 "metadata": {
  "kernelspec": {
   "display_name": "Python 3",
   "language": "python",
   "name": "python3"
  },
  "language_info": {
   "codemirror_mode": {
    "name": "ipython",
    "version": 3
   },
   "file_extension": ".py",
   "mimetype": "text/x-python",
   "name": "python",
   "nbconvert_exporter": "python",
   "pygments_lexer": "ipython3",
   "version": "3.7.3"
  }
 },
 "nbformat": 4,
 "nbformat_minor": 4
}
